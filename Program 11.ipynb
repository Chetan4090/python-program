{
 "cells": [
  {
   "cell_type": "markdown",
   "metadata": {
    "id": "UWJmOEq6ycAN"
   },
   "source": [
    "**Write a python program using numpy to sort the elements in the given array.**"
   ]
  },
  {
   "cell_type": "markdown",
   "metadata": {
    "id": "mFEfMe_hy124"
   },
   "source": [
    "**Example 1**\n"
   ]
  },
  {
   "cell_type": "code",
   "execution_count": 1,
   "metadata": {
    "colab": {
     "base_uri": "https://localhost:8080/"
    },
    "executionInfo": {
     "elapsed": 1682,
     "status": "ok",
     "timestamp": 1641898871732,
     "user": {
      "displayName": "Vinit Patel",
      "photoUrl": "https://lh3.googleusercontent.com/a-/AOh14GhaWw1VeSfZPTfpE5z0PQimeo-VI1DIpVXk--IDpw=s64",
      "userId": "03921918086117423147"
     },
     "user_tz": -330
    },
    "id": "0E5OvdO2zCPa",
    "outputId": "85c97616-9c12-4502-8264-b041ebdab55a"
   },
   "outputs": [
    {
     "name": "stdout",
     "output_type": "stream",
     "text": [
      "Original array:\n",
      "[0.99173106 0.19263559 0.76614594 0.95416922 0.7616734  0.5231836\n",
      " 0.98510789 0.17539999 0.38736478 0.79083413]\n",
      "\n",
      "Sorted first 5 elements:\n",
      "[0.17539999 0.19263559 0.38736478 0.5231836  0.7616734  0.95416922\n",
      " 0.98510789 0.99173106 0.76614594 0.79083413]\n"
     ]
    }
   ],
   "source": [
    "import numpy as np\n",
    "nums =  np.random.rand(10)\n",
    "print(\"Original array:\")\n",
    "print(nums)\n",
    "print(\"\\nSorted first 5 elements:\")\n",
    "print(nums[np.argpartition(nums,range(5))])"
   ]
  },
  {
   "cell_type": "markdown",
   "metadata": {
    "id": "zntsN4F1zKYq"
   },
   "source": [
    "**Example 2-Sort Array in Ascending Order**"
   ]
  },
  {
   "cell_type": "code",
   "execution_count": 2,
   "metadata": {
    "colab": {
     "base_uri": "https://localhost:8080/"
    },
    "executionInfo": {
     "elapsed": 1204,
     "status": "ok",
     "timestamp": 1641898912305,
     "user": {
      "displayName": "Vinit Patel",
      "photoUrl": "https://lh3.googleusercontent.com/a-/AOh14GhaWw1VeSfZPTfpE5z0PQimeo-VI1DIpVXk--IDpw=s64",
      "userId": "03921918086117423147"
     },
     "user_tz": -330
    },
    "id": "WmZ5UTnazPF7",
    "outputId": "871aee29-6f5c-4142-a8f3-0989337304c8"
   },
   "outputs": [
    {
     "name": "stdout",
     "output_type": "stream",
     "text": [
      "***Sorting Numpy Array in Ascending Order***\n",
      "Original Array =  [11 55 99 22  7 35 70]\n",
      "sorted Array   =  [ 7 11 22 35 55 70 99]\n"
     ]
    }
   ],
   "source": [
    "import numpy as np\n",
    "\n",
    "orarr = np.array([11, 55, 99, 22, 7, 35, 70])\n",
    "print(\"***Sorting Numpy Array in Ascending Order***\")\n",
    "print(\"Original Array = \", orarr)\n",
    "\n",
    "orarr.sort()\n",
    "print(\"sorted Array   = \", orarr)"
   ]
  },
  {
   "cell_type": "markdown",
   "metadata": {
    "id": "oVr8dQU-zTiz"
   },
   "source": [
    "**Example 3-Sort Array in Descending Order**"
   ]
  },
  {
   "cell_type": "code",
   "execution_count": 3,
   "metadata": {
    "colab": {
     "base_uri": "https://localhost:8080/"
    },
    "executionInfo": {
     "elapsed": 1605,
     "status": "ok",
     "timestamp": 1641898947491,
     "user": {
      "displayName": "Vinit Patel",
      "photoUrl": "https://lh3.googleusercontent.com/a-/AOh14GhaWw1VeSfZPTfpE5z0PQimeo-VI1DIpVXk--IDpw=s64",
      "userId": "03921918086117423147"
     },
     "user_tz": -330
    },
    "id": "48v5nRdvzYQZ",
    "outputId": "0d19f2a5-6b14-45a9-e62e-92a235ff4251"
   },
   "outputs": [
    {
     "name": "stdout",
     "output_type": "stream",
     "text": [
      "***Sorting Numpy Array in Descending Order***\n",
      "Original Array             =  [ 22  98  77  88  35  15 122  91]\n",
      "Array in Descending Order  =  [122  98  91  88  77  35  22  15]\n"
     ]
    }
   ],
   "source": [
    "import numpy as np\n",
    "\n",
    "orarr = np.array([22, 98, 77, 88, 35, 15, 122, 91])\n",
    "print(\"***Sorting Numpy Array in Descending Order***\")\n",
    "print(\"Original Array             = \", orarr)\n",
    "\n",
    "orarr.sort()\n",
    "descarr = orarr[::-1]\n",
    "print(\"Array in Descending Order  = \", descarr)"
   ]
  }
 ],
 "metadata": {
  "colab": {
   "authorship_tag": "ABX9TyORJXBwM7QBB0fn4/wGwImi",
   "collapsed_sections": [],
   "name": "Program 11.ipynb",
   "provenance": []
  },
  "kernelspec": {
   "display_name": "Python 3",
   "language": "python",
   "name": "python3"
  },
  "language_info": {
   "codemirror_mode": {
    "name": "ipython",
    "version": 3
   },
   "file_extension": ".py",
   "mimetype": "text/x-python",
   "name": "python",
   "nbconvert_exporter": "python",
   "pygments_lexer": "ipython3",
   "version": "3.8.8"
  }
 },
 "nbformat": 4,
 "nbformat_minor": 1
}
