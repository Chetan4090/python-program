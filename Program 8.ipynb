{
 "cells": [
  {
   "cell_type": "markdown",
   "metadata": {
    "id": "0CQkT2YWwdqV"
   },
   "source": [
    "**Write a python program to find largest of three numbers.**"
   ]
  },
  {
   "cell_type": "code",
   "execution_count": 1,
   "metadata": {
    "colab": {
     "base_uri": "https://localhost:8080/"
    },
    "executionInfo": {
     "elapsed": 6194,
     "status": "ok",
     "timestamp": 1641898205307,
     "user": {
      "displayName": "Vinit Patel",
      "photoUrl": "https://lh3.googleusercontent.com/a-/AOh14GhaWw1VeSfZPTfpE5z0PQimeo-VI1DIpVXk--IDpw=s64",
      "userId": "03921918086117423147"
     },
     "user_tz": -330
    },
    "id": "_mtG6eQPwfoK",
    "outputId": "5db6dac2-935e-4ace-b3ca-b7d7cb413669",
    "scrolled": true
   },
   "outputs": [
    {
     "name": "stdout",
     "output_type": "stream",
     "text": [
      "Enter first number: 9\n",
      "Enter second number: 10\n",
      "Enter third number: 11\n",
      "The largest number is 11\n"
     ]
    }
   ],
   "source": [
    "num1 = int(input(\"Enter first number: \"))\n",
    "num2 = int(input(\"Enter second number: \"))\n",
    "num3 = int(input(\"Enter third number: \"))\n",
    " \n",
    "if (num1 > num2) and (num1 > num3):\n",
    "   largest = num1\n",
    "elif (num2 > num1) and (num2 > num3):\n",
    "   largest = num2\n",
    "else:\n",
    "   largest = num3\n",
    " \n",
    "print(\"The largest number is\",largest)"
   ]
  },
  {
   "cell_type": "code",
   "execution_count": null,
   "metadata": {},
   "outputs": [],
   "source": []
  }
 ],
 "metadata": {
  "colab": {
   "authorship_tag": "ABX9TyNgJ6yGR0F4oBTQQQjydf5c",
   "collapsed_sections": [],
   "name": "Program 8.ipynb",
   "provenance": []
  },
  "kernelspec": {
   "display_name": "Python 3",
   "language": "python",
   "name": "python3"
  },
  "language_info": {
   "codemirror_mode": {
    "name": "ipython",
    "version": 3
   },
   "file_extension": ".py",
   "mimetype": "text/x-python",
   "name": "python",
   "nbconvert_exporter": "python",
   "pygments_lexer": "ipython3",
   "version": "3.8.8"
  }
 },
 "nbformat": 4,
 "nbformat_minor": 1
}
